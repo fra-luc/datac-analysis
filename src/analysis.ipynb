{
 "cells": [
  {
   "cell_type": "code",
   "execution_count": 1,
   "id": "ea009888-c450-4dc4-870f-a21bbb91c8b7",
   "metadata": {},
   "outputs": [],
   "source": [
    "import pytz\n",
    "import pandas\n",
    "from datetime import datetime\n",
    "\n",
    "import gtfs_kit as gk"
   ]
  },
  {
   "cell_type": "code",
   "execution_count": 2,
   "id": "93297a24-724b-460e-84a8-cf0e86ca76ae",
   "metadata": {},
   "outputs": [],
   "source": [
    "vehicle_positions = pandas.read_parquet(\"../data/vehicle_positions.parquet\")\n",
    "vehicle_positions = vehicle_positions.tz_localize('UTC')"
   ]
  },
  {
   "cell_type": "code",
   "execution_count": 3,
   "id": "67c1b3a7-e023-49c7-b850-fa99c2e1f12d",
   "metadata": {},
   "outputs": [],
   "source": [
    "feed = gk.read_feed(\"../downloads/schedule_updates/2024-03-20T06_34_14.zip\", dist_units='km')"
   ]
  },
  {
   "cell_type": "markdown",
   "id": "792075cf-2497-40bc-8111-0f189518108e",
   "metadata": {},
   "source": [
    "## Linee monitorate"
   ]
  },
  {
   "cell_type": "code",
   "execution_count": 4,
   "metadata": {},
   "outputs": [],
   "source": [
    "def get_monitored_routes(vehicle_positions: pandas.DataFrame):\n",
    "    return vehicle_positions[\"vehicle.trip.route_id\"].unique()"
   ]
  },
  {
   "cell_type": "code",
   "execution_count": 5,
   "id": "2115f19c-ddd0-4413-b766-a0b4f43492fd",
   "metadata": {},
   "outputs": [],
   "source": [
    "planned_routes = feed.get_routes()[\"route_id\"].unique()\n",
    "monitored_routes = get_monitored_routes(vehicle_positions)\n",
    "unimonitored_routes =  set(planned_routes) - set(monitored_routes)"
   ]
  },
  {
   "cell_type": "markdown",
   "metadata": {},
   "source": [
    "### Percentage of monitored routes"
   ]
  },
  {
   "cell_type": "code",
   "execution_count": 6,
   "id": "902d9a1b-ee04-49ce-924d-ed7edc0faed0",
   "metadata": {},
   "outputs": [
    {
     "data": {
      "text/plain": [
       "93.7"
      ]
     },
     "execution_count": 6,
     "metadata": {},
     "output_type": "execute_result"
    }
   ],
   "source": [
    "round(len(monitored_routes) / len(planned_routes) * 100, 1)"
   ]
  },
  {
   "cell_type": "markdown",
   "id": "61e0e3f2-d38d-4ef6-a659-22139d7c8f2c",
   "metadata": {},
   "source": [
    "## Route Analysis"
   ]
  },
  {
   "cell_type": "code",
   "execution_count": 7,
   "id": "b088f447-c0d6-437b-998b-22c0d3506c06",
   "metadata": {},
   "outputs": [],
   "source": [
    "ROUTE = \"360\"\n",
    "DATE = datetime(2024, 3, 20, 4, tzinfo=pytz.timezone('Europe/Rome'))"
   ]
  },
  {
   "cell_type": "code",
   "execution_count": 8,
   "id": "b3788931",
   "metadata": {},
   "outputs": [],
   "source": [
    "vehicle_positions = vehicle_positions[vehicle_positions.index.to_series().dt.date == DATE.date()]"
   ]
  },
  {
   "cell_type": "code",
   "execution_count": 9,
   "id": "426dbdae-32f4-4d04-b947-e791b6c9f5bb",
   "metadata": {},
   "outputs": [
    {
     "name": "stderr",
     "output_type": "stream",
     "text": [
      "/home/fra/.cache/pypoetry/virtualenvs/datac-analysis-5tLNiopQ-py3.9/lib/python3.9/site-packages/gtfs_kit/routes.py:677: FutureWarning: Series.fillna with 'method' is deprecated and will raise in a future version. Use obj.ffill() or obj.bfill() instead.\n",
      "  f[\"dt\"] = f[\"departure_time\"].fillna(method=\"ffill\")\n",
      "/home/fra/.cache/pypoetry/virtualenvs/datac-analysis-5tLNiopQ-py3.9/lib/python3.9/site-packages/gtfs_kit/routes.py:678: FutureWarning: The provided callable <built-in function min> is currently using SeriesGroupBy.min. In a future version of pandas, the provided callable will be used directly. To keep current behavior pass the string \"min\" instead.\n",
      "  f[\"min_dt\"] = f.groupby(\"trip_id\")[\"dt\"].transform(min)\n"
     ]
    }
   ],
   "source": [
    "route_timetable = feed.build_route_timetable(ROUTE, [DATE.strftime(\"%Y%m%d\")])"
   ]
  },
  {
   "cell_type": "code",
   "execution_count": 11,
   "metadata": {},
   "outputs": [],
   "source": [
    "def get_route_vehicle_positions(vehicle_positions: pandas.DataFrame, route: str, date: datetime):\n",
    "    route_vehicle_positions = vehicle_positions[vehicle_positions[\"vehicle.trip.route_id\"] == route].copy()\n",
    "    route_vehicle_positions[\"vehicle.trip.trip_id\"] = route_vehicle_positions[\"vehicle.trip.trip_id\"]#.str.replace(\"0#\", \"1#\")\n",
    "    route_vehicle_positions.reset_index(inplace=True)\n",
    "    route_vehicle_positions = route_vehicle_positions[route_vehicle_positions[\"vehicle.timestamp\"] >= date]\n",
    "    return route_vehicle_positions.sort_values(\"vehicle.timestamp\")"
   ]
  },
  {
   "cell_type": "code",
   "execution_count": 12,
   "id": "a2ddaa16-2115-4e70-876f-4817a0112e00",
   "metadata": {},
   "outputs": [],
   "source": [
    "route_vehicle_positions = get_route_vehicle_positions(vehicle_positions, route=ROUTE, date=DATE)"
   ]
  },
  {
   "cell_type": "markdown",
   "id": "c290702b-fa38-4c14-83a4-2aa65f487946",
   "metadata": {},
   "source": [
    "## Failed Trips"
   ]
  },
  {
   "cell_type": "code",
   "execution_count": 14,
   "id": "72294bda-8ec4-45e6-a85a-85cd58472a61",
   "metadata": {},
   "outputs": [
    {
     "data": {
      "text/plain": [
       "(208, 35)"
      ]
     },
     "execution_count": 14,
     "metadata": {},
     "output_type": "execute_result"
    }
   ],
   "source": [
    "route_planned_trips = route_timetable[\"trip_id\"].unique()\n",
    "route_actual_trips = route_vehicle_positions[\"vehicle.trip.trip_id\"].unique()\n",
    "route_failed_trips = set(route_planned_trips) - set(route_actual_trips)\n",
    "len(route_planned_trips), len(route_failed_trips)"
   ]
  },
  {
   "cell_type": "code",
   "execution_count": 15,
   "id": "c685b11e-754a-4ae1-9460-48168b560977",
   "metadata": {},
   "outputs": [
    {
     "data": {
      "text/html": [
       "<div>\n",
       "<style scoped>\n",
       "    .dataframe tbody tr th:only-of-type {\n",
       "        vertical-align: middle;\n",
       "    }\n",
       "\n",
       "    .dataframe tbody tr th {\n",
       "        vertical-align: top;\n",
       "    }\n",
       "\n",
       "    .dataframe thead th {\n",
       "        text-align: right;\n",
       "    }\n",
       "</style>\n",
       "<table border=\"1\" class=\"dataframe\">\n",
       "  <thead>\n",
       "    <tr style=\"text-align: right;\">\n",
       "      <th></th>\n",
       "      <th>trip_id</th>\n",
       "      <th>trip_headsign</th>\n",
       "      <th>departure_time</th>\n",
       "      <th>date</th>\n",
       "    </tr>\n",
       "  </thead>\n",
       "  <tbody>\n",
       "    <tr>\n",
       "      <th>3865217</th>\n",
       "      <td>0#4657-3</td>\n",
       "      <td>MUSE</td>\n",
       "      <td>05:28:00</td>\n",
       "      <td>20240320</td>\n",
       "    </tr>\n",
       "    <tr>\n",
       "      <th>3865233</th>\n",
       "      <td>0#4657-4</td>\n",
       "      <td>ZAMA</td>\n",
       "      <td>05:50:00</td>\n",
       "      <td>20240320</td>\n",
       "    </tr>\n",
       "    <tr>\n",
       "      <th>3865264</th>\n",
       "      <td>0#4657-5</td>\n",
       "      <td>MUSE</td>\n",
       "      <td>06:31:00</td>\n",
       "      <td>20240320</td>\n",
       "    </tr>\n",
       "    <tr>\n",
       "      <th>3866462</th>\n",
       "      <td>0#4660-4</td>\n",
       "      <td>MUSE</td>\n",
       "      <td>07:02:00</td>\n",
       "      <td>20240320</td>\n",
       "    </tr>\n",
       "    <tr>\n",
       "      <th>3865293</th>\n",
       "      <td>0#4657-6</td>\n",
       "      <td>ZAMA</td>\n",
       "      <td>07:22:00</td>\n",
       "      <td>20240320</td>\n",
       "    </tr>\n",
       "    <tr>\n",
       "      <th>3862187</th>\n",
       "      <td>0#4650-3</td>\n",
       "      <td>MUSE</td>\n",
       "      <td>07:46:00</td>\n",
       "      <td>20240320</td>\n",
       "    </tr>\n",
       "    <tr>\n",
       "      <th>3866491</th>\n",
       "      <td>0#4660-5</td>\n",
       "      <td>ZAMA</td>\n",
       "      <td>07:52:00</td>\n",
       "      <td>20240320</td>\n",
       "    </tr>\n",
       "    <tr>\n",
       "      <th>3862203</th>\n",
       "      <td>0#4650-4</td>\n",
       "      <td>ZAMA</td>\n",
       "      <td>08:19:00</td>\n",
       "      <td>20240320</td>\n",
       "    </tr>\n",
       "    <tr>\n",
       "      <th>3865324</th>\n",
       "      <td>0#4657-7</td>\n",
       "      <td>MUSE</td>\n",
       "      <td>08:27:00</td>\n",
       "      <td>20240320</td>\n",
       "    </tr>\n",
       "    <tr>\n",
       "      <th>3866522</th>\n",
       "      <td>0#4660-6</td>\n",
       "      <td>MUSE</td>\n",
       "      <td>08:56:00</td>\n",
       "      <td>20240320</td>\n",
       "    </tr>\n",
       "    <tr>\n",
       "      <th>3862234</th>\n",
       "      <td>0#4650-5</td>\n",
       "      <td>MUSE</td>\n",
       "      <td>09:27:00</td>\n",
       "      <td>20240320</td>\n",
       "    </tr>\n",
       "    <tr>\n",
       "      <th>3865353</th>\n",
       "      <td>0#4657-8</td>\n",
       "      <td>ZAMA</td>\n",
       "      <td>09:33:00</td>\n",
       "      <td>20240320</td>\n",
       "    </tr>\n",
       "    <tr>\n",
       "      <th>3866551</th>\n",
       "      <td>0#4660-7</td>\n",
       "      <td>ZAMA</td>\n",
       "      <td>10:00:00</td>\n",
       "      <td>20240320</td>\n",
       "    </tr>\n",
       "    <tr>\n",
       "      <th>3862263</th>\n",
       "      <td>0#4650-6</td>\n",
       "      <td>ZAMA</td>\n",
       "      <td>10:27:00</td>\n",
       "      <td>20240320</td>\n",
       "    </tr>\n",
       "    <tr>\n",
       "      <th>3866582</th>\n",
       "      <td>0#4660-8</td>\n",
       "      <td>MUSE</td>\n",
       "      <td>11:02:00</td>\n",
       "      <td>20240320</td>\n",
       "    </tr>\n",
       "    <tr>\n",
       "      <th>3862294</th>\n",
       "      <td>0#4650-7</td>\n",
       "      <td>MUSE</td>\n",
       "      <td>11:29:00</td>\n",
       "      <td>20240320</td>\n",
       "    </tr>\n",
       "    <tr>\n",
       "      <th>3866611</th>\n",
       "      <td>0#4660-9</td>\n",
       "      <td>ZAMA</td>\n",
       "      <td>11:59:00</td>\n",
       "      <td>20240320</td>\n",
       "    </tr>\n",
       "    <tr>\n",
       "      <th>3862323</th>\n",
       "      <td>0#4650-8</td>\n",
       "      <td>ZAMA</td>\n",
       "      <td>12:27:00</td>\n",
       "      <td>20240320</td>\n",
       "    </tr>\n",
       "    <tr>\n",
       "      <th>3866642</th>\n",
       "      <td>0#4660-10</td>\n",
       "      <td>MUSE</td>\n",
       "      <td>13:02:00</td>\n",
       "      <td>20240320</td>\n",
       "    </tr>\n",
       "    <tr>\n",
       "      <th>3862354</th>\n",
       "      <td>0#4650-9</td>\n",
       "      <td>MUSE</td>\n",
       "      <td>13:32:00</td>\n",
       "      <td>20240320</td>\n",
       "    </tr>\n",
       "    <tr>\n",
       "      <th>3866671</th>\n",
       "      <td>0#4660-11</td>\n",
       "      <td>ZAMA</td>\n",
       "      <td>13:59:00</td>\n",
       "      <td>20240320</td>\n",
       "    </tr>\n",
       "    <tr>\n",
       "      <th>3862383</th>\n",
       "      <td>0#4650-10</td>\n",
       "      <td>ZAMA</td>\n",
       "      <td>14:29:00</td>\n",
       "      <td>20240320</td>\n",
       "    </tr>\n",
       "    <tr>\n",
       "      <th>3866702</th>\n",
       "      <td>0#4660-12</td>\n",
       "      <td>MUSE</td>\n",
       "      <td>15:01:00</td>\n",
       "      <td>20240320</td>\n",
       "    </tr>\n",
       "    <tr>\n",
       "      <th>3862414</th>\n",
       "      <td>0#4650-11</td>\n",
       "      <td>MUSE</td>\n",
       "      <td>15:31:00</td>\n",
       "      <td>20240320</td>\n",
       "    </tr>\n",
       "    <tr>\n",
       "      <th>3866731</th>\n",
       "      <td>0#4660-13</td>\n",
       "      <td>ZAMA</td>\n",
       "      <td>15:59:00</td>\n",
       "      <td>20240320</td>\n",
       "    </tr>\n",
       "    <tr>\n",
       "      <th>3862443</th>\n",
       "      <td>0#4650-12</td>\n",
       "      <td>ZAMA</td>\n",
       "      <td>16:31:00</td>\n",
       "      <td>20240320</td>\n",
       "    </tr>\n",
       "    <tr>\n",
       "      <th>3866762</th>\n",
       "      <td>0#4660-14</td>\n",
       "      <td>MUSE</td>\n",
       "      <td>17:06:00</td>\n",
       "      <td>20240320</td>\n",
       "    </tr>\n",
       "    <tr>\n",
       "      <th>3864285</th>\n",
       "      <td>0#4654-14</td>\n",
       "      <td>ZAMA</td>\n",
       "      <td>17:24:00</td>\n",
       "      <td>20240320</td>\n",
       "    </tr>\n",
       "    <tr>\n",
       "      <th>3862474</th>\n",
       "      <td>0#4650-13</td>\n",
       "      <td>MUSE</td>\n",
       "      <td>17:38:00</td>\n",
       "      <td>20240320</td>\n",
       "    </tr>\n",
       "    <tr>\n",
       "      <th>3866791</th>\n",
       "      <td>0#4660-15</td>\n",
       "      <td>ZAMA</td>\n",
       "      <td>18:10:00</td>\n",
       "      <td>20240320</td>\n",
       "    </tr>\n",
       "    <tr>\n",
       "      <th>3865806</th>\n",
       "      <td>0#4658-17</td>\n",
       "      <td>MUSE</td>\n",
       "      <td>18:58:00</td>\n",
       "      <td>20240320</td>\n",
       "    </tr>\n",
       "    <tr>\n",
       "      <th>3866822</th>\n",
       "      <td>0#4660-16</td>\n",
       "      <td>MUSE</td>\n",
       "      <td>19:24:00</td>\n",
       "      <td>20240320</td>\n",
       "    </tr>\n",
       "    <tr>\n",
       "      <th>3866851</th>\n",
       "      <td>0#4660-17</td>\n",
       "      <td>ZAMA</td>\n",
       "      <td>20:27:00</td>\n",
       "      <td>20240320</td>\n",
       "    </tr>\n",
       "    <tr>\n",
       "      <th>3866882</th>\n",
       "      <td>0#4660-18</td>\n",
       "      <td>MUSE</td>\n",
       "      <td>21:25:00</td>\n",
       "      <td>20240320</td>\n",
       "    </tr>\n",
       "    <tr>\n",
       "      <th>3866911</th>\n",
       "      <td>0#4660-19</td>\n",
       "      <td>ZAMA</td>\n",
       "      <td>22:22:00</td>\n",
       "      <td>20240320</td>\n",
       "    </tr>\n",
       "  </tbody>\n",
       "</table>\n",
       "</div>"
      ],
      "text/plain": [
       "           trip_id trip_headsign departure_time      date\n",
       "3865217   0#4657-3          MUSE       05:28:00  20240320\n",
       "3865233   0#4657-4          ZAMA       05:50:00  20240320\n",
       "3865264   0#4657-5          MUSE       06:31:00  20240320\n",
       "3866462   0#4660-4          MUSE       07:02:00  20240320\n",
       "3865293   0#4657-6          ZAMA       07:22:00  20240320\n",
       "3862187   0#4650-3          MUSE       07:46:00  20240320\n",
       "3866491   0#4660-5          ZAMA       07:52:00  20240320\n",
       "3862203   0#4650-4          ZAMA       08:19:00  20240320\n",
       "3865324   0#4657-7          MUSE       08:27:00  20240320\n",
       "3866522   0#4660-6          MUSE       08:56:00  20240320\n",
       "3862234   0#4650-5          MUSE       09:27:00  20240320\n",
       "3865353   0#4657-8          ZAMA       09:33:00  20240320\n",
       "3866551   0#4660-7          ZAMA       10:00:00  20240320\n",
       "3862263   0#4650-6          ZAMA       10:27:00  20240320\n",
       "3866582   0#4660-8          MUSE       11:02:00  20240320\n",
       "3862294   0#4650-7          MUSE       11:29:00  20240320\n",
       "3866611   0#4660-9          ZAMA       11:59:00  20240320\n",
       "3862323   0#4650-8          ZAMA       12:27:00  20240320\n",
       "3866642  0#4660-10          MUSE       13:02:00  20240320\n",
       "3862354   0#4650-9          MUSE       13:32:00  20240320\n",
       "3866671  0#4660-11          ZAMA       13:59:00  20240320\n",
       "3862383  0#4650-10          ZAMA       14:29:00  20240320\n",
       "3866702  0#4660-12          MUSE       15:01:00  20240320\n",
       "3862414  0#4650-11          MUSE       15:31:00  20240320\n",
       "3866731  0#4660-13          ZAMA       15:59:00  20240320\n",
       "3862443  0#4650-12          ZAMA       16:31:00  20240320\n",
       "3866762  0#4660-14          MUSE       17:06:00  20240320\n",
       "3864285  0#4654-14          ZAMA       17:24:00  20240320\n",
       "3862474  0#4650-13          MUSE       17:38:00  20240320\n",
       "3866791  0#4660-15          ZAMA       18:10:00  20240320\n",
       "3865806  0#4658-17          MUSE       18:58:00  20240320\n",
       "3866822  0#4660-16          MUSE       19:24:00  20240320\n",
       "3866851  0#4660-17          ZAMA       20:27:00  20240320\n",
       "3866882  0#4660-18          MUSE       21:25:00  20240320\n",
       "3866911  0#4660-19          ZAMA       22:22:00  20240320"
      ]
     },
     "execution_count": 15,
     "metadata": {},
     "output_type": "execute_result"
    }
   ],
   "source": [
    "route_timetable[(route_timetable[\"trip_id\"].isin(route_failed_trips)) & (route_timetable[\"stop_sequence\"] == 1)][[\"trip_id\",\"trip_headsign\",\"departure_time\",\"date\"]]"
   ]
  }
 ],
 "metadata": {
  "kernelspec": {
   "display_name": "Python 3 (ipykernel)",
   "language": "python",
   "name": "python3"
  },
  "language_info": {
   "codemirror_mode": {
    "name": "ipython",
    "version": 3
   },
   "file_extension": ".py",
   "mimetype": "text/x-python",
   "name": "python",
   "nbconvert_exporter": "python",
   "pygments_lexer": "ipython3",
   "version": "3.9.18"
  }
 },
 "nbformat": 4,
 "nbformat_minor": 5
}

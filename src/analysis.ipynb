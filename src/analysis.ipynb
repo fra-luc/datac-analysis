{
 "cells": [
  {
   "cell_type": "code",
   "execution_count": 1,
   "id": "ea009888-c450-4dc4-870f-a21bbb91c8b7",
   "metadata": {},
   "outputs": [],
   "source": [
    "import pytz\n",
    "import pandas\n",
    "from datetime import datetime\n",
    "\n",
    "import gtfs_kit as gk\n",
    "import matplotlib.pyplot as plt"
   ]
  },
  {
   "cell_type": "code",
   "execution_count": 2,
   "id": "7f5cf230",
   "metadata": {},
   "outputs": [],
   "source": [
    "DATE = datetime(2024, 3, 20, tzinfo=pytz.timezone(\"Europe/Rome\"))"
   ]
  },
  {
   "cell_type": "code",
   "execution_count": 3,
   "id": "93297a24-724b-460e-84a8-cf0e86ca76ae",
   "metadata": {},
   "outputs": [
    {
     "data": {
      "text/plain": [
       "1182045"
      ]
     },
     "execution_count": 3,
     "metadata": {},
     "output_type": "execute_result"
    }
   ],
   "source": [
    "vehicle_positions = pandas.read_parquet(\"../downloads/vehicle_positions.parquet\")\n",
    "vehicle_positions = vehicle_positions[vehicle_positions[\"vehicle.trip.start_date\"].dt.date == DATE.date()]\n",
    "len(vehicle_positions)"
   ]
  },
  {
   "cell_type": "code",
   "execution_count": 4,
   "id": "92b01daf",
   "metadata": {},
   "outputs": [
    {
     "data": {
      "text/plain": [
       "375"
      ]
     },
     "execution_count": 4,
     "metadata": {},
     "output_type": "execute_result"
    }
   ],
   "source": [
    "vehicle_positions[\"vehicle.trip.route_id\"].nunique()"
   ]
  },
  {
   "cell_type": "code",
   "execution_count": 5,
   "id": "f0e186c6",
   "metadata": {},
   "outputs": [
    {
     "data": {
      "text/plain": [
       "879129"
      ]
     },
     "execution_count": 5,
     "metadata": {},
     "output_type": "execute_result"
    }
   ],
   "source": [
    "vehicle_positions = vehicle_positions[\n",
    "    ~(\n",
    "        (\n",
    "            (vehicle_positions[\"vehicle.position.odometer\"] == 0.0)\n",
    "            & (vehicle_positions[\"vehicle.current_stop_sequence\"] != 1)\n",
    "        )  # fixes some weird occurences where the odometer drops to 0 in the middle of the trip\n",
    "        | (\n",
    "            (vehicle_positions[\"vehicle.position.odometer\"] > 50.0)\n",
    "            & (vehicle_positions[\"vehicle.current_stop_sequence\"] == 1)\n",
    "        )\n",
    "    )\n",
    "]\n",
    "len(vehicle_positions)"
   ]
  },
  {
   "cell_type": "code",
   "execution_count": 6,
   "id": "09f811ff",
   "metadata": {},
   "outputs": [
    {
     "data": {
      "text/plain": [
       "662300"
      ]
     },
     "execution_count": 6,
     "metadata": {},
     "output_type": "execute_result"
    }
   ],
   "source": [
    "emitted_positions_count_by_route = vehicle_positions[\"vehicle.trip.route_id\"].value_counts()\n",
    "vehicle_positions = vehicle_positions[\n",
    "    vehicle_positions[\"vehicle.trip.route_id\"].isin(\n",
    "        emitted_positions_count_by_route[emitted_positions_count_by_route > 3500].index\n",
    "    )\n",
    "]\n",
    "len(vehicle_positions)"
   ]
  },
  {
   "cell_type": "code",
   "execution_count": 7,
   "id": "db797bda",
   "metadata": {},
   "outputs": [
    {
     "data": {
      "text/plain": [
       "105"
      ]
     },
     "execution_count": 7,
     "metadata": {},
     "output_type": "execute_result"
    }
   ],
   "source": [
    "vehicle_positions[\"vehicle.trip.route_id\"].nunique()"
   ]
  },
  {
   "cell_type": "code",
   "execution_count": 6,
   "id": "67c1b3a7-e023-49c7-b850-fa99c2e1f12d",
   "metadata": {},
   "outputs": [],
   "source": [
    "# feed = gk.read_feed(\"../downloads/schedule_updates/2024-03-20T06_34_14.zip\", dist_units=\"km\")"
   ]
  },
  {
   "cell_type": "markdown",
   "id": "792075cf-2497-40bc-8111-0f189518108e",
   "metadata": {},
   "source": [
    "## Routes"
   ]
  },
  {
   "cell_type": "markdown",
   "id": "ace10b23",
   "metadata": {},
   "source": [
    "### Number of planned routes"
   ]
  },
  {
   "cell_type": "code",
   "execution_count": 6,
   "id": "e48339d5",
   "metadata": {},
   "outputs": [
    {
     "name": "stdout",
     "output_type": "stream",
     "text": [
      "Unexpected exception formatting exception. Falling back to standard exception\n"
     ]
    },
    {
     "name": "stderr",
     "output_type": "stream",
     "text": [
      "Traceback (most recent call last):\n",
      "  File \"/home/fra/.cache/pypoetry/virtualenvs/datac-analysis-5tLNiopQ-py3.13/lib/python3.13/site-packages/IPython/core/interactiveshell.py\", line 3550, in run_code\n",
      "    exec(code_obj, self.user_global_ns, self.user_ns)\n",
      "    ~~~~^^^^^^^^^^^^^^^^^^^^^^^^^^^^^^^^^^^^^^^^^^^^^\n",
      "  File \"/tmp/ipykernel_46288/1357941207.py\", line 1, in <module>\n",
      "    routes = feed.get_routes()\n",
      "             ^^^^\n",
      "NameError: name 'feed' is not defined\n",
      "\n",
      "During handling of the above exception, another exception occurred:\n",
      "\n",
      "Traceback (most recent call last):\n",
      "  File \"/home/fra/.cache/pypoetry/virtualenvs/datac-analysis-5tLNiopQ-py3.13/lib/python3.13/site-packages/IPython/core/interactiveshell.py\", line 2144, in showtraceback\n",
      "    stb = self.InteractiveTB.structured_traceback(\n",
      "        etype, value, tb, tb_offset=tb_offset\n",
      "    )\n",
      "  File \"/home/fra/.cache/pypoetry/virtualenvs/datac-analysis-5tLNiopQ-py3.13/lib/python3.13/site-packages/IPython/core/ultratb.py\", line 1435, in structured_traceback\n",
      "    return FormattedTB.structured_traceback(\n",
      "           ~~~~~~~~~~~~~~~~~~~~~~~~~~~~~~~~^\n",
      "        self, etype, evalue, etb, tb_offset, number_of_lines_of_context\n",
      "        ^^^^^^^^^^^^^^^^^^^^^^^^^^^^^^^^^^^^^^^^^^^^^^^^^^^^^^^^^^^^^^^\n",
      "    )\n",
      "    ^\n",
      "  File \"/home/fra/.cache/pypoetry/virtualenvs/datac-analysis-5tLNiopQ-py3.13/lib/python3.13/site-packages/IPython/core/ultratb.py\", line 1326, in structured_traceback\n",
      "    return VerboseTB.structured_traceback(\n",
      "           ~~~~~~~~~~~~~~~~~~~~~~~~~~~~~~^\n",
      "        self, etype, value, tb, tb_offset, number_of_lines_of_context\n",
      "        ^^^^^^^^^^^^^^^^^^^^^^^^^^^^^^^^^^^^^^^^^^^^^^^^^^^^^^^^^^^^^\n",
      "    )\n",
      "    ^\n",
      "  File \"/home/fra/.cache/pypoetry/virtualenvs/datac-analysis-5tLNiopQ-py3.13/lib/python3.13/site-packages/IPython/core/ultratb.py\", line 1173, in structured_traceback\n",
      "    formatted_exception = self.format_exception_as_a_whole(etype, evalue, etb, number_of_lines_of_context,\n",
      "                                                           tb_offset)\n",
      "  File \"/home/fra/.cache/pypoetry/virtualenvs/datac-analysis-5tLNiopQ-py3.13/lib/python3.13/site-packages/IPython/core/ultratb.py\", line 1063, in format_exception_as_a_whole\n",
      "    self.get_records(etb, number_of_lines_of_context, tb_offset) if etb else []\n",
      "    ~~~~~~~~~~~~~~~~^^^^^^^^^^^^^^^^^^^^^^^^^^^^^^^^^^^^^^^^^^^^\n",
      "  File \"/home/fra/.cache/pypoetry/virtualenvs/datac-analysis-5tLNiopQ-py3.13/lib/python3.13/site-packages/IPython/core/ultratb.py\", line 1160, in get_records\n",
      "    res = list(stack_data.FrameInfo.stack_data(etb, options=options))[tb_offset:]\n",
      "          ~~~~^^^^^^^^^^^^^^^^^^^^^^^^^^^^^^^^^^^^^^^^^^^^^^^^^^^^^^^\n",
      "  File \"/home/fra/.cache/pypoetry/virtualenvs/datac-analysis-5tLNiopQ-py3.13/lib/python3.13/site-packages/stack_data/core.py\", line 597, in stack_data\n",
      "    yield from collapse_repeated(\n",
      "    ...<4 lines>...\n",
      "    )\n",
      "  File \"/home/fra/.cache/pypoetry/virtualenvs/datac-analysis-5tLNiopQ-py3.13/lib/python3.13/site-packages/stack_data/utils.py\", line 83, in collapse_repeated\n",
      "    yield from map(mapper, original_group)\n",
      "  File \"/home/fra/.cache/pypoetry/virtualenvs/datac-analysis-5tLNiopQ-py3.13/lib/python3.13/site-packages/stack_data/core.py\", line 587, in mapper\n",
      "    return cls(f, options)\n",
      "  File \"/home/fra/.cache/pypoetry/virtualenvs/datac-analysis-5tLNiopQ-py3.13/lib/python3.13/site-packages/stack_data/core.py\", line 551, in __init__\n",
      "    self.executing = Source.executing(frame_or_tb)\n",
      "                     ~~~~~~~~~~~~~~~~^^^^^^^^^^^^^\n",
      "  File \"/home/fra/.cache/pypoetry/virtualenvs/datac-analysis-5tLNiopQ-py3.13/lib/python3.13/site-packages/executing/executing.py\", line 283, in executing\n",
      "    assert_(new_stmts <= stmts)\n",
      "    ~~~~~~~^^^^^^^^^^^^^^^^^^^^\n",
      "  File \"/home/fra/.cache/pypoetry/virtualenvs/datac-analysis-5tLNiopQ-py3.13/lib/python3.13/site-packages/executing/executing.py\", line 80, in assert_\n",
      "    raise AssertionError(str(message))\n",
      "AssertionError\n"
     ]
    }
   ],
   "source": [
    "routes = feed.get_routes()\n",
    "route_ids = routes[\"route_id\"].unique()"
   ]
  },
  {
   "cell_type": "code",
   "execution_count": null,
   "id": "00846736",
   "metadata": {},
   "outputs": [],
   "source": [
    "def get_monitored_route_ids(vehicle_positions: pandas.DataFrame):\n",
    "    return vehicle_positions[\"vehicle.trip.route_id\"].unique()"
   ]
  },
  {
   "cell_type": "code",
   "execution_count": null,
   "id": "2115f19c-ddd0-4413-b766-a0b4f43492fd",
   "metadata": {},
   "outputs": [],
   "source": [
    "monitored_route_ids = get_monitored_route_ids(vehicle_positions)\n",
    "unimonitored_route_ids = set(route_ids) - set(monitored_route_ids)"
   ]
  },
  {
   "cell_type": "markdown",
   "id": "bb580752",
   "metadata": {},
   "source": [
    "### % of monitored routes"
   ]
  },
  {
   "cell_type": "code",
   "execution_count": 7,
   "id": "902d9a1b-ee04-49ce-924d-ed7edc0faed0",
   "metadata": {},
   "outputs": [
    {
     "data": {
      "text/plain": [
       "95.2"
      ]
     },
     "execution_count": 7,
     "metadata": {},
     "output_type": "execute_result"
    }
   ],
   "source": [
    "NUM_METRO_LINES = 4\n",
    "\n",
    "round(len(monitored_route_ids) / (len(route_ids) - NUM_METRO_LINES) * 100, 1)"
   ]
  },
  {
   "cell_type": "markdown",
   "id": "47e651b1",
   "metadata": {},
   "source": [
    "### Unmonitored routes"
   ]
  },
  {
   "cell_type": "code",
   "execution_count": 8,
   "id": "df525494",
   "metadata": {},
   "outputs": [
    {
     "data": {
      "text/html": [
       "<div>\n",
       "<style scoped>\n",
       "    .dataframe tbody tr th:only-of-type {\n",
       "        vertical-align: middle;\n",
       "    }\n",
       "\n",
       "    .dataframe tbody tr th {\n",
       "        vertical-align: top;\n",
       "    }\n",
       "\n",
       "    .dataframe thead th {\n",
       "        text-align: right;\n",
       "    }\n",
       "</style>\n",
       "<table border=\"1\" class=\"dataframe\">\n",
       "  <thead>\n",
       "    <tr style=\"text-align: right;\">\n",
       "      <th></th>\n",
       "      <th>route_short_name</th>\n",
       "      <th>route_long_name</th>\n",
       "      <th>route_url</th>\n",
       "    </tr>\n",
       "  </thead>\n",
       "  <tbody>\n",
       "    <tr>\n",
       "      <th>11</th>\n",
       "      <td>551</td>\n",
       "      <td>&lt;NA&gt;</td>\n",
       "      <td>https://muoversiaroma.it/it/linea?numero=551</td>\n",
       "    </tr>\n",
       "    <tr>\n",
       "      <th>28</th>\n",
       "      <td>500</td>\n",
       "      <td>&lt;NA&gt;</td>\n",
       "      <td>https://muoversiaroma.it/it/linea?numero=500</td>\n",
       "    </tr>\n",
       "    <tr>\n",
       "      <th>55</th>\n",
       "      <td>246</td>\n",
       "      <td>&lt;NA&gt;</td>\n",
       "      <td>https://muoversiaroma.it/it/linea?numero=246</td>\n",
       "    </tr>\n",
       "    <tr>\n",
       "      <th>58</th>\n",
       "      <td>021</td>\n",
       "      <td>&lt;NA&gt;</td>\n",
       "      <td>https://muoversiaroma.it/it/linea?numero=021</td>\n",
       "    </tr>\n",
       "    <tr>\n",
       "      <th>236</th>\n",
       "      <td>043</td>\n",
       "      <td>&lt;NA&gt;</td>\n",
       "      <td>https://muoversiaroma.it/it/linea?numero=043</td>\n",
       "    </tr>\n",
       "    <tr>\n",
       "      <th>242</th>\n",
       "      <td>113</td>\n",
       "      <td>&lt;NA&gt;</td>\n",
       "      <td>https://muoversiaroma.it/it/linea?numero=113</td>\n",
       "    </tr>\n",
       "    <tr>\n",
       "      <th>244</th>\n",
       "      <td>246P</td>\n",
       "      <td>&lt;NA&gt;</td>\n",
       "      <td>https://muoversiaroma.it/it/linea?numero=246P</td>\n",
       "    </tr>\n",
       "    <tr>\n",
       "      <th>246</th>\n",
       "      <td>351</td>\n",
       "      <td>&lt;NA&gt;</td>\n",
       "      <td>https://muoversiaroma.it/it/linea?numero=351</td>\n",
       "    </tr>\n",
       "    <tr>\n",
       "      <th>254</th>\n",
       "      <td>319</td>\n",
       "      <td>&lt;NA&gt;</td>\n",
       "      <td>https://muoversiaroma.it/it/linea?numero=319</td>\n",
       "    </tr>\n",
       "    <tr>\n",
       "      <th>269</th>\n",
       "      <td>718</td>\n",
       "      <td>&lt;NA&gt;</td>\n",
       "      <td>https://muoversiaroma.it/it/linea?numero=718</td>\n",
       "    </tr>\n",
       "    <tr>\n",
       "      <th>270</th>\n",
       "      <td>77</td>\n",
       "      <td>&lt;NA&gt;</td>\n",
       "      <td>https://muoversiaroma.it/it/linea?numero=77</td>\n",
       "    </tr>\n",
       "    <tr>\n",
       "      <th>328</th>\n",
       "      <td>MEA</td>\n",
       "      <td>Metro A</td>\n",
       "      <td>https://muoversiaroma.it/it/linea?numero=MEA&amp;cl=1</td>\n",
       "    </tr>\n",
       "    <tr>\n",
       "      <th>329</th>\n",
       "      <td>MEB</td>\n",
       "      <td>Metro B</td>\n",
       "      <td>https://muoversiaroma.it/it/linea?numero=MEB&amp;cl=1</td>\n",
       "    </tr>\n",
       "    <tr>\n",
       "      <th>330</th>\n",
       "      <td>051</td>\n",
       "      <td>&lt;NA&gt;</td>\n",
       "      <td>https://muoversiaroma.it/it/linea?numero=051&amp;cl=1</td>\n",
       "    </tr>\n",
       "    <tr>\n",
       "      <th>334</th>\n",
       "      <td>059</td>\n",
       "      <td>&lt;NA&gt;</td>\n",
       "      <td>https://muoversiaroma.it/it/linea?numero=059&amp;cl=1</td>\n",
       "    </tr>\n",
       "    <tr>\n",
       "      <th>336</th>\n",
       "      <td>053</td>\n",
       "      <td>&lt;NA&gt;</td>\n",
       "      <td>https://muoversiaroma.it/it/linea?numero=053&amp;cl=1</td>\n",
       "    </tr>\n",
       "    <tr>\n",
       "      <th>353</th>\n",
       "      <td>MEB1</td>\n",
       "      <td>Metro B1</td>\n",
       "      <td>https://muoversiaroma.it/it/linea?numero=MEB1&amp;...</td>\n",
       "    </tr>\n",
       "    <tr>\n",
       "      <th>362</th>\n",
       "      <td>543</td>\n",
       "      <td>&lt;NA&gt;</td>\n",
       "      <td>https://muoversiaroma.it/it/linea?numero=543&amp;cl=1</td>\n",
       "    </tr>\n",
       "    <tr>\n",
       "      <th>366</th>\n",
       "      <td>055</td>\n",
       "      <td>&lt;NA&gt;</td>\n",
       "      <td>https://muoversiaroma.it/it/linea?numero=055&amp;cl=1</td>\n",
       "    </tr>\n",
       "    <tr>\n",
       "      <th>373</th>\n",
       "      <td>MEC</td>\n",
       "      <td>Metro C</td>\n",
       "      <td>https://muoversiaroma.it/it/linea?numero=MEC&amp;cl=1</td>\n",
       "    </tr>\n",
       "    <tr>\n",
       "      <th>392</th>\n",
       "      <td>789</td>\n",
       "      <td>&lt;NA&gt;</td>\n",
       "      <td>https://muoversiaroma.it/it/linea?numero=789&amp;cl=1</td>\n",
       "    </tr>\n",
       "    <tr>\n",
       "      <th>393</th>\n",
       "      <td>789F</td>\n",
       "      <td>&lt;NA&gt;</td>\n",
       "      <td>https://muoversiaroma.it/it/linea?numero=789F&amp;...</td>\n",
       "    </tr>\n",
       "    <tr>\n",
       "      <th>397</th>\n",
       "      <td>135</td>\n",
       "      <td>&lt;NA&gt;</td>\n",
       "      <td>https://muoversiaroma.it/it/linea?numero=135&amp;cl=1</td>\n",
       "    </tr>\n",
       "    <tr>\n",
       "      <th>407</th>\n",
       "      <td>447</td>\n",
       "      <td>&lt;NA&gt;</td>\n",
       "      <td>https://muoversiaroma.it/it/linea?numero=447&amp;cl=1</td>\n",
       "    </tr>\n",
       "    <tr>\n",
       "      <th>424</th>\n",
       "      <td>437</td>\n",
       "      <td>&lt;NA&gt;</td>\n",
       "      <td>https://muoversiaroma.it/it/linea?numero=437&amp;cl=1</td>\n",
       "    </tr>\n",
       "  </tbody>\n",
       "</table>\n",
       "</div>"
      ],
      "text/plain": [
       "    route_short_name route_long_name  \\\n",
       "11               551            <NA>   \n",
       "28               500            <NA>   \n",
       "55               246            <NA>   \n",
       "58               021            <NA>   \n",
       "236              043            <NA>   \n",
       "242              113            <NA>   \n",
       "244             246P            <NA>   \n",
       "246              351            <NA>   \n",
       "254              319            <NA>   \n",
       "269              718            <NA>   \n",
       "270               77            <NA>   \n",
       "328              MEA         Metro A   \n",
       "329              MEB         Metro B   \n",
       "330              051            <NA>   \n",
       "334              059            <NA>   \n",
       "336              053            <NA>   \n",
       "353             MEB1        Metro B1   \n",
       "362              543            <NA>   \n",
       "366              055            <NA>   \n",
       "373              MEC         Metro C   \n",
       "392              789            <NA>   \n",
       "393             789F            <NA>   \n",
       "397              135            <NA>   \n",
       "407              447            <NA>   \n",
       "424              437            <NA>   \n",
       "\n",
       "                                             route_url  \n",
       "11        https://muoversiaroma.it/it/linea?numero=551  \n",
       "28        https://muoversiaroma.it/it/linea?numero=500  \n",
       "55        https://muoversiaroma.it/it/linea?numero=246  \n",
       "58        https://muoversiaroma.it/it/linea?numero=021  \n",
       "236       https://muoversiaroma.it/it/linea?numero=043  \n",
       "242       https://muoversiaroma.it/it/linea?numero=113  \n",
       "244      https://muoversiaroma.it/it/linea?numero=246P  \n",
       "246       https://muoversiaroma.it/it/linea?numero=351  \n",
       "254       https://muoversiaroma.it/it/linea?numero=319  \n",
       "269       https://muoversiaroma.it/it/linea?numero=718  \n",
       "270        https://muoversiaroma.it/it/linea?numero=77  \n",
       "328  https://muoversiaroma.it/it/linea?numero=MEA&cl=1  \n",
       "329  https://muoversiaroma.it/it/linea?numero=MEB&cl=1  \n",
       "330  https://muoversiaroma.it/it/linea?numero=051&cl=1  \n",
       "334  https://muoversiaroma.it/it/linea?numero=059&cl=1  \n",
       "336  https://muoversiaroma.it/it/linea?numero=053&cl=1  \n",
       "353  https://muoversiaroma.it/it/linea?numero=MEB1&...  \n",
       "362  https://muoversiaroma.it/it/linea?numero=543&cl=1  \n",
       "366  https://muoversiaroma.it/it/linea?numero=055&cl=1  \n",
       "373  https://muoversiaroma.it/it/linea?numero=MEC&cl=1  \n",
       "392  https://muoversiaroma.it/it/linea?numero=789&cl=1  \n",
       "393  https://muoversiaroma.it/it/linea?numero=789F&...  \n",
       "397  https://muoversiaroma.it/it/linea?numero=135&cl=1  \n",
       "407  https://muoversiaroma.it/it/linea?numero=447&cl=1  \n",
       "424  https://muoversiaroma.it/it/linea?numero=437&cl=1  "
      ]
     },
     "execution_count": 8,
     "metadata": {},
     "output_type": "execute_result"
    }
   ],
   "source": [
    "routes[routes[\"route_id\"].isin(unimonitored_route_ids)][[\"route_short_name\", \"route_long_name\", \"route_url\"]]"
   ]
  },
  {
   "cell_type": "markdown",
   "id": "61e0e3f2-d38d-4ef6-a659-22139d7c8f2c",
   "metadata": {},
   "source": [
    "## Route Analysis"
   ]
  },
  {
   "cell_type": "code",
   "execution_count": 8,
   "id": "930f3db4",
   "metadata": {},
   "outputs": [],
   "source": [
    "def compute_commercial_speed_per_route_and_trip(\n",
    "    vehicle_positions: pandas.DataFrame,\n",
    "    min_speed_cutoff: float = 0.0,\n",
    "    max_speed_cutoff: float = 35.0,\n",
    ") -> pandas.DataFrame:\n",
    "    relevant_cols = [\n",
    "        \"vehicle.trip.route_id\",\n",
    "        \"vehicle.trip.trip_id\",\n",
    "        \"vehicle.timestamp\",\n",
    "        \"vehicle.position.odometer\",\n",
    "        \"vehicle.current_stop_sequence\",\n",
    "    ]\n",
    "    relevant_view = vehicle_positions[relevant_cols]\n",
    "\n",
    "    odometer_and_timestamp_minmax = relevant_view.groupby(\n",
    "        [\"vehicle.trip.route_id\", \"vehicle.trip.trip_id\"], observed=False\n",
    "    ).agg({\"vehicle.timestamp\": [\"min\", \"max\", \"mean\"], \"vehicle.position.odometer\": [\"min\", \"max\"]})\n",
    "\n",
    "    trips = (\n",
    "        (\n",
    "            (\n",
    "                (\n",
    "                    odometer_and_timestamp_minmax[\"vehicle.position.odometer\"][\"max\"]\n",
    "                    - odometer_and_timestamp_minmax[\"vehicle.position.odometer\"][\"min\"]\n",
    "                )\n",
    "                / 1000  # km\n",
    "            )\n",
    "            / (\n",
    "                (\n",
    "                    odometer_and_timestamp_minmax[\"vehicle.timestamp\"][\"max\"]\n",
    "                    - odometer_and_timestamp_minmax[\"vehicle.timestamp\"][\"min\"]\n",
    "                ).dt.seconds\n",
    "                / 3600  # hours\n",
    "            )\n",
    "        )\n",
    "        .rename(\"vehicle.commercial_speed_kmh\")\n",
    "        .to_frame()\n",
    "        .assign(**{\"vehicle.timestamp.mean\": odometer_and_timestamp_minmax[\"vehicle.timestamp\"][\"mean\"]})\n",
    "    )\n",
    "\n",
    "    return trips[\n",
    "        (min_speed_cutoff < trips[\"vehicle.commercial_speed_kmh\"])\n",
    "        & (trips[\"vehicle.commercial_speed_kmh\"] < max_speed_cutoff)\n",
    "    ]"
   ]
  },
  {
   "cell_type": "code",
   "execution_count": 9,
   "id": "1b926ee1",
   "metadata": {},
   "outputs": [],
   "source": [
    "trips = compute_commercial_speed_per_route_and_trip(vehicle_positions)"
   ]
  },
  {
   "cell_type": "code",
   "execution_count": 10,
   "id": "dc523d8f",
   "metadata": {},
   "outputs": [
    {
     "data": {
      "text/html": [
       "<div>\n",
       "<style scoped>\n",
       "    .dataframe tbody tr th:only-of-type {\n",
       "        vertical-align: middle;\n",
       "    }\n",
       "\n",
       "    .dataframe tbody tr th {\n",
       "        vertical-align: top;\n",
       "    }\n",
       "\n",
       "    .dataframe thead th {\n",
       "        text-align: right;\n",
       "    }\n",
       "</style>\n",
       "<table border=\"1\" class=\"dataframe\">\n",
       "  <thead>\n",
       "    <tr style=\"text-align: right;\">\n",
       "      <th></th>\n",
       "      <th>vehicle.commercial_speed_kmh</th>\n",
       "    </tr>\n",
       "  </thead>\n",
       "  <tbody>\n",
       "    <tr>\n",
       "      <th>count</th>\n",
       "      <td>14202.000000</td>\n",
       "    </tr>\n",
       "    <tr>\n",
       "      <th>mean</th>\n",
       "      <td>12.329209</td>\n",
       "    </tr>\n",
       "    <tr>\n",
       "      <th>std</th>\n",
       "      <td>6.424385</td>\n",
       "    </tr>\n",
       "    <tr>\n",
       "      <th>min</th>\n",
       "      <td>0.000933</td>\n",
       "    </tr>\n",
       "    <tr>\n",
       "      <th>25%</th>\n",
       "      <td>8.121528</td>\n",
       "    </tr>\n",
       "    <tr>\n",
       "      <th>50%</th>\n",
       "      <td>12.221031</td>\n",
       "    </tr>\n",
       "    <tr>\n",
       "      <th>75%</th>\n",
       "      <td>16.138639</td>\n",
       "    </tr>\n",
       "    <tr>\n",
       "      <th>max</th>\n",
       "      <td>34.978412</td>\n",
       "    </tr>\n",
       "  </tbody>\n",
       "</table>\n",
       "</div>"
      ],
      "text/plain": [
       "       vehicle.commercial_speed_kmh\n",
       "count                  14202.000000\n",
       "mean                      12.329209\n",
       "std                        6.424385\n",
       "min                        0.000933\n",
       "25%                        8.121528\n",
       "50%                       12.221031\n",
       "75%                       16.138639\n",
       "max                       34.978412"
      ]
     },
     "execution_count": 10,
     "metadata": {},
     "output_type": "execute_result"
    }
   ],
   "source": [
    "trips[[\"vehicle.commercial_speed_kmh\"]].describe()"
   ]
  },
  {
   "cell_type": "code",
   "execution_count": 11,
   "id": "c67bc86c",
   "metadata": {},
   "outputs": [
    {
     "data": {
      "text/html": [
       "<div>\n",
       "<style scoped>\n",
       "    .dataframe tbody tr th:only-of-type {\n",
       "        vertical-align: middle;\n",
       "    }\n",
       "\n",
       "    .dataframe tbody tr th {\n",
       "        vertical-align: top;\n",
       "    }\n",
       "\n",
       "    .dataframe thead th {\n",
       "        text-align: right;\n",
       "    }\n",
       "</style>\n",
       "<table border=\"1\" class=\"dataframe\">\n",
       "  <thead>\n",
       "    <tr style=\"text-align: right;\">\n",
       "      <th></th>\n",
       "      <th>vehicle.commercial_speed_kmh</th>\n",
       "    </tr>\n",
       "    <tr>\n",
       "      <th>vehicle.trip.route_id</th>\n",
       "      <th></th>\n",
       "    </tr>\n",
       "  </thead>\n",
       "  <tbody>\n",
       "    <tr>\n",
       "      <th>64</th>\n",
       "      <td>3.10</td>\n",
       "    </tr>\n",
       "    <tr>\n",
       "      <th>492</th>\n",
       "      <td>3.38</td>\n",
       "    </tr>\n",
       "    <tr>\n",
       "      <th>62</th>\n",
       "      <td>3.50</td>\n",
       "    </tr>\n",
       "    <tr>\n",
       "      <th>51</th>\n",
       "      <td>3.50</td>\n",
       "    </tr>\n",
       "    <tr>\n",
       "      <th>46</th>\n",
       "      <td>3.52</td>\n",
       "    </tr>\n",
       "    <tr>\n",
       "      <th>...</th>\n",
       "      <td>...</td>\n",
       "    </tr>\n",
       "    <tr>\n",
       "      <th>508</th>\n",
       "      <td>20.47</td>\n",
       "    </tr>\n",
       "    <tr>\n",
       "      <th>04</th>\n",
       "      <td>20.49</td>\n",
       "    </tr>\n",
       "    <tr>\n",
       "      <th>075</th>\n",
       "      <td>20.51</td>\n",
       "    </tr>\n",
       "    <tr>\n",
       "      <th>20</th>\n",
       "      <td>20.74</td>\n",
       "    </tr>\n",
       "    <tr>\n",
       "      <th>058</th>\n",
       "      <td>22.85</td>\n",
       "    </tr>\n",
       "  </tbody>\n",
       "</table>\n",
       "<p>105 rows × 1 columns</p>\n",
       "</div>"
      ],
      "text/plain": [
       "                       vehicle.commercial_speed_kmh\n",
       "vehicle.trip.route_id                              \n",
       "64                                             3.10\n",
       "492                                            3.38\n",
       "62                                             3.50\n",
       "51                                             3.50\n",
       "46                                             3.52\n",
       "...                                             ...\n",
       "508                                           20.47\n",
       "04                                            20.49\n",
       "075                                           20.51\n",
       "20                                            20.74\n",
       "058                                           22.85\n",
       "\n",
       "[105 rows x 1 columns]"
      ]
     },
     "execution_count": 11,
     "metadata": {},
     "output_type": "execute_result"
    }
   ],
   "source": [
    "trips[[\"vehicle.commercial_speed_kmh\"]].groupby(level=0, observed=False).mean().dropna().sort_values(\n",
    "    by=\"vehicle.commercial_speed_kmh\"\n",
    ").round(2)"
   ]
  },
  {
   "cell_type": "code",
   "execution_count": 12,
   "id": "89ac9875",
   "metadata": {},
   "outputs": [
    {
     "data": {
      "image/png": "[encoded data removed]",
      "text/plain": [
       "<Figure size 640x480 with 1 Axes>"
      ]
     },
     "metadata": {},
     "output_type": "display_data"
    }
   ],
   "source": [
    "trips[[\"vehicle.commercial_speed_kmh\"]].hist(bins=50)\n",
    "plt.show()"
   ]
  },
  {
   "cell_type": "code",
   "execution_count": 27,
   "id": "02c666ab",
   "metadata": {},
   "outputs": [],
   "source": [
    "from datetime import timedelta"
   ]
  },
  {
   "cell_type": "code",
   "execution_count": null,
   "id": "39ccf196",
   "metadata": {},
   "outputs": [
    {
     "data": {
      "image/png": "[encoded data removed]",
      "text/plain": [
       "<Figure size 1500x1000 with 1 Axes>"
      ]
     },
     "metadata": {},
     "output_type": "display_data"
    }
   ],
   "source": [
    "ROUTE_ID = \"20\"\n",
    "\n",
    "(\n",
    "    trips.loc[ROUTE_ID]\n",
    "    .set_index(\"vehicle.timestamp.mean\")\n",
    "    .sort_index()\n",
    "    .interpolate()\n",
    "    .rolling(25)\n",
    "    .mean()\n",
    "    .plot(\n",
    "        rot=45,\n",
    "        title=f\"Route {ROUTE_ID} (Wed 20/03/2024)\",\n",
    "        ylabel=\"Commercial Speed (km/h)\",\n",
    "        xlabel=\"Time of the day\",\n",
    "        legend=False,\n",
    "        figsize=(15, 10),\n",
    "        color=\"red\"\n",
    "    )\n",
    ")\n",
    "plt.show()"
   ]
  },
  {
   "cell_type": "code",
   "execution_count": null,
   "id": "e74f43bd",
   "metadata": {},
   "outputs": [],
   "source": []
  },
  {
   "cell_type": "code",
   "execution_count": null,
   "id": "2d352f7e",
   "metadata": {},
   "outputs": [],
   "source": [
    "timedelta(minutes=5)"
   ]
  },
  {
   "cell_type": "code",
   "execution_count": 105,
   "id": "211ef0a9",
   "metadata": {},
   "outputs": [
    {
     "data": {
      "image/png": "[encoded data removed]",
      "text/plain": [
       "<Figure size 1500x1000 with 1 Axes>"
      ]
     },
     "metadata": {},
     "output_type": "display_data"
    }
   ],
   "source": [
    "trips.set_index(\"vehicle.timestamp.mean\").sort_index().rolling(timedelta(minutes=15), min_periods=2).mean().rolling(\n",
    "    1000\n",
    ").mean().plot(title=\"All routes (Wed 20/03/2024)\", figsize=(15, 10), xlabel=\"Time of the day\", ylabel=\"Commercial Speed (km/h)\", legend=False, color=\"red\")\n",
    "plt.show()"
   ]
  },
  {
   "cell_type": "markdown",
   "id": "c290702b-fa38-4c14-83a4-2aa65f487946",
   "metadata": {},
   "source": [
    "## Failed Trips"
   ]
  },
  {
   "cell_type": "code",
   "execution_count": 12,
   "id": "72294bda-8ec4-45e6-a85a-85cd58472a61",
   "metadata": {},
   "outputs": [
    {
     "data": {
      "text/plain": [
       "(208, 35)"
      ]
     },
     "execution_count": 12,
     "metadata": {},
     "output_type": "execute_result"
    }
   ],
   "source": [
    "route_planned_trips = route_timetable[\"trip_id\"].unique()\n",
    "route_actual_trips = route_vehicle_positions[\"vehicle.trip.trip_id\"].unique()\n",
    "route_failed_trips = set(route_planned_trips) - set(route_actual_trips)\n",
    "len(route_planned_trips), len(route_failed_trips)"
   ]
  },
  {
   "cell_type": "code",
   "execution_count": 13,
   "id": "c685b11e-754a-4ae1-9460-48168b560977",
   "metadata": {
    "scrolled": true
   },
   "outputs": [
    {
     "data": {
      "text/html": [
       "<div>\n",
       "<style scoped>\n",
       "    .dataframe tbody tr th:only-of-type {\n",
       "        vertical-align: middle;\n",
       "    }\n",
       "\n",
       "    .dataframe tbody tr th {\n",
       "        vertical-align: top;\n",
       "    }\n",
       "\n",
       "    .dataframe thead th {\n",
       "        text-align: right;\n",
       "    }\n",
       "</style>\n",
       "<table border=\"1\" class=\"dataframe\">\n",
       "  <thead>\n",
       "    <tr style=\"text-align: right;\">\n",
       "      <th></th>\n",
       "      <th>trip_id</th>\n",
       "      <th>trip_headsign</th>\n",
       "      <th>departure_time</th>\n",
       "      <th>date</th>\n",
       "    </tr>\n",
       "  </thead>\n",
       "  <tbody>\n",
       "    <tr>\n",
       "      <th>32</th>\n",
       "      <td>0#4657-3</td>\n",
       "      <td>MUSE</td>\n",
       "      <td>05:28:00</td>\n",
       "      <td>20240320</td>\n",
       "    </tr>\n",
       "    <tr>\n",
       "      <th>185</th>\n",
       "      <td>0#4657-4</td>\n",
       "      <td>ZAMA</td>\n",
       "      <td>05:50:00</td>\n",
       "      <td>20240320</td>\n",
       "    </tr>\n",
       "    <tr>\n",
       "      <th>425</th>\n",
       "      <td>0#4657-5</td>\n",
       "      <td>MUSE</td>\n",
       "      <td>06:31:00</td>\n",
       "      <td>20240320</td>\n",
       "    </tr>\n",
       "    <tr>\n",
       "      <th>621</th>\n",
       "      <td>0#4660-4</td>\n",
       "      <td>MUSE</td>\n",
       "      <td>07:02:00</td>\n",
       "      <td>20240320</td>\n",
       "    </tr>\n",
       "    <tr>\n",
       "      <th>740</th>\n",
       "      <td>0#4657-6</td>\n",
       "      <td>ZAMA</td>\n",
       "      <td>07:22:00</td>\n",
       "      <td>20240320</td>\n",
       "    </tr>\n",
       "    <tr>\n",
       "      <th>936</th>\n",
       "      <td>0#4650-3</td>\n",
       "      <td>MUSE</td>\n",
       "      <td>07:46:00</td>\n",
       "      <td>20240320</td>\n",
       "    </tr>\n",
       "    <tr>\n",
       "      <th>981</th>\n",
       "      <td>0#4660-5</td>\n",
       "      <td>ZAMA</td>\n",
       "      <td>07:52:00</td>\n",
       "      <td>20240320</td>\n",
       "    </tr>\n",
       "    <tr>\n",
       "      <th>1161</th>\n",
       "      <td>0#4650-4</td>\n",
       "      <td>ZAMA</td>\n",
       "      <td>08:19:00</td>\n",
       "      <td>20240320</td>\n",
       "    </tr>\n",
       "    <tr>\n",
       "      <th>1192</th>\n",
       "      <td>0#4657-7</td>\n",
       "      <td>MUSE</td>\n",
       "      <td>08:27:00</td>\n",
       "      <td>20240320</td>\n",
       "    </tr>\n",
       "    <tr>\n",
       "      <th>1372</th>\n",
       "      <td>0#4660-6</td>\n",
       "      <td>MUSE</td>\n",
       "      <td>08:56:00</td>\n",
       "      <td>20240320</td>\n",
       "    </tr>\n",
       "    <tr>\n",
       "      <th>1583</th>\n",
       "      <td>0#4650-5</td>\n",
       "      <td>MUSE</td>\n",
       "      <td>09:27:00</td>\n",
       "      <td>20240320</td>\n",
       "    </tr>\n",
       "    <tr>\n",
       "      <th>1612</th>\n",
       "      <td>0#4657-8</td>\n",
       "      <td>ZAMA</td>\n",
       "      <td>09:33:00</td>\n",
       "      <td>20240320</td>\n",
       "    </tr>\n",
       "    <tr>\n",
       "      <th>1792</th>\n",
       "      <td>0#4660-7</td>\n",
       "      <td>ZAMA</td>\n",
       "      <td>10:00:00</td>\n",
       "      <td>20240320</td>\n",
       "    </tr>\n",
       "    <tr>\n",
       "      <th>1972</th>\n",
       "      <td>0#4650-6</td>\n",
       "      <td>ZAMA</td>\n",
       "      <td>10:27:00</td>\n",
       "      <td>20240320</td>\n",
       "    </tr>\n",
       "    <tr>\n",
       "      <th>2183</th>\n",
       "      <td>0#4660-8</td>\n",
       "      <td>MUSE</td>\n",
       "      <td>11:02:00</td>\n",
       "      <td>20240320</td>\n",
       "    </tr>\n",
       "    <tr>\n",
       "      <th>2363</th>\n",
       "      <td>0#4650-7</td>\n",
       "      <td>MUSE</td>\n",
       "      <td>11:29:00</td>\n",
       "      <td>20240320</td>\n",
       "    </tr>\n",
       "    <tr>\n",
       "      <th>2572</th>\n",
       "      <td>0#4660-9</td>\n",
       "      <td>ZAMA</td>\n",
       "      <td>11:59:00</td>\n",
       "      <td>20240320</td>\n",
       "    </tr>\n",
       "    <tr>\n",
       "      <th>2752</th>\n",
       "      <td>0#4650-8</td>\n",
       "      <td>ZAMA</td>\n",
       "      <td>12:27:00</td>\n",
       "      <td>20240320</td>\n",
       "    </tr>\n",
       "    <tr>\n",
       "      <th>2963</th>\n",
       "      <td>0#4660-10</td>\n",
       "      <td>MUSE</td>\n",
       "      <td>13:02:00</td>\n",
       "      <td>20240320</td>\n",
       "    </tr>\n",
       "    <tr>\n",
       "      <th>3174</th>\n",
       "      <td>0#4650-9</td>\n",
       "      <td>MUSE</td>\n",
       "      <td>13:32:00</td>\n",
       "      <td>20240320</td>\n",
       "    </tr>\n",
       "    <tr>\n",
       "      <th>3323</th>\n",
       "      <td>0#4660-11</td>\n",
       "      <td>ZAMA</td>\n",
       "      <td>13:59:00</td>\n",
       "      <td>20240320</td>\n",
       "    </tr>\n",
       "    <tr>\n",
       "      <th>3503</th>\n",
       "      <td>0#4650-10</td>\n",
       "      <td>ZAMA</td>\n",
       "      <td>14:29:00</td>\n",
       "      <td>20240320</td>\n",
       "    </tr>\n",
       "    <tr>\n",
       "      <th>3714</th>\n",
       "      <td>0#4660-12</td>\n",
       "      <td>MUSE</td>\n",
       "      <td>15:01:00</td>\n",
       "      <td>20240320</td>\n",
       "    </tr>\n",
       "    <tr>\n",
       "      <th>3894</th>\n",
       "      <td>0#4650-11</td>\n",
       "      <td>MUSE</td>\n",
       "      <td>15:31:00</td>\n",
       "      <td>20240320</td>\n",
       "    </tr>\n",
       "    <tr>\n",
       "      <th>4043</th>\n",
       "      <td>0#4660-13</td>\n",
       "      <td>ZAMA</td>\n",
       "      <td>15:59:00</td>\n",
       "      <td>20240320</td>\n",
       "    </tr>\n",
       "    <tr>\n",
       "      <th>4223</th>\n",
       "      <td>0#4650-12</td>\n",
       "      <td>ZAMA</td>\n",
       "      <td>16:31:00</td>\n",
       "      <td>20240320</td>\n",
       "    </tr>\n",
       "    <tr>\n",
       "      <th>4434</th>\n",
       "      <td>0#4660-14</td>\n",
       "      <td>MUSE</td>\n",
       "      <td>17:06:00</td>\n",
       "      <td>20240320</td>\n",
       "    </tr>\n",
       "    <tr>\n",
       "      <th>4523</th>\n",
       "      <td>0#4654-14</td>\n",
       "      <td>ZAMA</td>\n",
       "      <td>17:24:00</td>\n",
       "      <td>20240320</td>\n",
       "    </tr>\n",
       "    <tr>\n",
       "      <th>4614</th>\n",
       "      <td>0#4650-13</td>\n",
       "      <td>MUSE</td>\n",
       "      <td>17:38:00</td>\n",
       "      <td>20240320</td>\n",
       "    </tr>\n",
       "    <tr>\n",
       "      <th>4763</th>\n",
       "      <td>0#4660-15</td>\n",
       "      <td>ZAMA</td>\n",
       "      <td>18:10:00</td>\n",
       "      <td>20240320</td>\n",
       "    </tr>\n",
       "    <tr>\n",
       "      <th>5034</th>\n",
       "      <td>0#4658-17</td>\n",
       "      <td>MUSE</td>\n",
       "      <td>18:58:00</td>\n",
       "      <td>20240320</td>\n",
       "    </tr>\n",
       "    <tr>\n",
       "      <th>5154</th>\n",
       "      <td>0#4660-16</td>\n",
       "      <td>MUSE</td>\n",
       "      <td>19:24:00</td>\n",
       "      <td>20240320</td>\n",
       "    </tr>\n",
       "    <tr>\n",
       "      <th>5423</th>\n",
       "      <td>0#4660-17</td>\n",
       "      <td>ZAMA</td>\n",
       "      <td>20:27:00</td>\n",
       "      <td>20240320</td>\n",
       "    </tr>\n",
       "    <tr>\n",
       "      <th>5634</th>\n",
       "      <td>0#4660-18</td>\n",
       "      <td>MUSE</td>\n",
       "      <td>21:25:00</td>\n",
       "      <td>20240320</td>\n",
       "    </tr>\n",
       "    <tr>\n",
       "      <th>5783</th>\n",
       "      <td>0#4660-19</td>\n",
       "      <td>ZAMA</td>\n",
       "      <td>22:22:00</td>\n",
       "      <td>20240320</td>\n",
       "    </tr>\n",
       "  </tbody>\n",
       "</table>\n",
       "</div>"
      ],
      "text/plain": [
       "        trip_id trip_headsign departure_time      date\n",
       "32     0#4657-3          MUSE       05:28:00  20240320\n",
       "185    0#4657-4          ZAMA       05:50:00  20240320\n",
       "425    0#4657-5          MUSE       06:31:00  20240320\n",
       "621    0#4660-4          MUSE       07:02:00  20240320\n",
       "740    0#4657-6          ZAMA       07:22:00  20240320\n",
       "936    0#4650-3          MUSE       07:46:00  20240320\n",
       "981    0#4660-5          ZAMA       07:52:00  20240320\n",
       "1161   0#4650-4          ZAMA       08:19:00  20240320\n",
       "1192   0#4657-7          MUSE       08:27:00  20240320\n",
       "1372   0#4660-6          MUSE       08:56:00  20240320\n",
       "1583   0#4650-5          MUSE       09:27:00  20240320\n",
       "1612   0#4657-8          ZAMA       09:33:00  20240320\n",
       "1792   0#4660-7          ZAMA       10:00:00  20240320\n",
       "1972   0#4650-6          ZAMA       10:27:00  20240320\n",
       "2183   0#4660-8          MUSE       11:02:00  20240320\n",
       "2363   0#4650-7          MUSE       11:29:00  20240320\n",
       "2572   0#4660-9          ZAMA       11:59:00  20240320\n",
       "2752   0#4650-8          ZAMA       12:27:00  20240320\n",
       "2963  0#4660-10          MUSE       13:02:00  20240320\n",
       "3174   0#4650-9          MUSE       13:32:00  20240320\n",
       "3323  0#4660-11          ZAMA       13:59:00  20240320\n",
       "3503  0#4650-10          ZAMA       14:29:00  20240320\n",
       "3714  0#4660-12          MUSE       15:01:00  20240320\n",
       "3894  0#4650-11          MUSE       15:31:00  20240320\n",
       "4043  0#4660-13          ZAMA       15:59:00  20240320\n",
       "4223  0#4650-12          ZAMA       16:31:00  20240320\n",
       "4434  0#4660-14          MUSE       17:06:00  20240320\n",
       "4523  0#4654-14          ZAMA       17:24:00  20240320\n",
       "4614  0#4650-13          MUSE       17:38:00  20240320\n",
       "4763  0#4660-15          ZAMA       18:10:00  20240320\n",
       "5034  0#4658-17          MUSE       18:58:00  20240320\n",
       "5154  0#4660-16          MUSE       19:24:00  20240320\n",
       "5423  0#4660-17          ZAMA       20:27:00  20240320\n",
       "5634  0#4660-18          MUSE       21:25:00  20240320\n",
       "5783  0#4660-19          ZAMA       22:22:00  20240320"
      ]
     },
     "execution_count": 13,
     "metadata": {},
     "output_type": "execute_result"
    }
   ],
   "source": [
    "route_timetable[(route_timetable[\"trip_id\"].isin(route_failed_trips)) & (route_timetable[\"stop_sequence\"] == 1)][\n",
    "    [\"trip_id\", \"trip_headsign\", \"departure_time\", \"date\"]\n",
    "]"
   ]
  },
  {
   "cell_type": "markdown",
   "id": "e1b12cc2",
   "metadata": {},
   "source": []
  },
  {
   "cell_type": "code",
   "execution_count": 23,
   "id": "fb55758a-b6cc-4b12-b7e4-a75114d31752",
   "metadata": {},
   "outputs": [],
   "source": [
    "trip_positions = route_vehicle_positions[route_vehicle_positions[\"vehicle.trip.trip_id\"] == \"0#4648-3\"][\n",
    "    [\"vehicle.position.latitude\", \"vehicle.position.longitude\"]\n",
    "].values"
   ]
  }
 ],
 "metadata": {
  "kernelspec": {
   "display_name": "datac-analysis-5tLNiopQ-py3.13",
   "language": "python",
   "name": "python3"
  },
  "language_info": {
   "codemirror_mode": {
    "name": "ipython",
    "version": 3
   },
   "file_extension": ".py",
   "mimetype": "text/x-python",
   "name": "python",
   "nbconvert_exporter": "python",
   "pygments_lexer": "ipython3",
   "version": "3.13.5"
  }
 },
 "nbformat": 4,
 "nbformat_minor": 5
}
